{
 "cells": [
  {
   "cell_type": "markdown",
   "metadata": {},
   "source": [
    "<b>Capstone Project [Battle of Neighbourhoods] </b>"
   ]
  },
  {
   "cell_type": "markdown",
   "metadata": {},
   "source": [
    "This file and other files make up my contribution towards the final assessment of Coursera's capstone project in Data Science."
   ]
  },
  {
   "cell_type": "markdown",
   "metadata": {},
   "source": [
    "<b>INTRODUCTION</b>"
   ]
  },
  {
   "cell_type": "markdown",
   "metadata": {},
   "source": [
    "<i>Toronto is said to be the largest city of Canada. Many immigrant cultures have come to Toronto and have brought their traditions, languages, food, and music to the city. This shows that Toronto is the most ethnically diverse city. Besides, the diverse culture that is brought into the city, Toronto is also a business-minded, conscientious, socially progressive, and pluralistic city. It is a city of many museums, theatres, festival events and sports activities.\n",
    "\n",
    "Thus,the purpose of this project is to provide enough information for someone who would like to open up a bakery in the city of Toronto. The idea is to help someone make a smart and efficient decision on selecting a great location for starting a bakery in Toronto. Fast forward in time, this will help the owner of the bakery to feel he/she made the right decision and hopefully have the bakery bringing in more customers year on year, and simultanseously growing the business over time.\n",
    "\n",
    "So as part of this project, we will list and visualise all major parts of Toronto City that has great bakeries spread across the city.</i>"
   ]
  },
  {
   "cell_type": "markdown",
   "metadata": {},
   "source": [
    "<b>DATA COLLECTION</b>"
   ]
  },
  {
   "cell_type": "markdown",
   "metadata": {},
   "source": [
    "\n",
    "<i>For this project we need the following data :\n",
    "\n",
    "Toronto city data that contains information on Postal code, Boroughs and Neighborhoods.\n",
    "\n",
    "<b>Data source :</b> https://en.wikipedia.org/wiki/List_of_postal_codes_of_Canada:_M\n",
    "\n",
    "<b>Description :</b> This data set contains the required information. And we will use this data set to explore various neighborhoods of Toronto city.\n",
    "Bakeries that are found in each neighborhood of Toronto city.\n",
    "\n",
    "<b>Data source :</b> Fousquare API\n",
    "\n",
    "<b>Description :</b> By using this api we will get all the venues in each neighborhood. We can filter these venues to get only bakeries.\n",
    "\n",
    "<b>GeoSpace data</b>\n",
    "\n",
    "<b>Data source :</b> http://cocl.us/Geospatial_data\n",
    "\n",
    "<b>Description :</b> By using this geo space data we will get the latitude and longitude of each of the neighbourhoods.</i>"
   ]
  },
  {
   "cell_type": "markdown",
   "metadata": {},
   "source": [
    "<b>Approach</b>"
   ]
  },
  {
   "cell_type": "markdown",
   "metadata": {},
   "source": [
    "<i>\n",
    "    <ol>\n",
    "        <li>Collect the Toronto city data from <a href=\"https://en.wikipedia.org/wiki/List_of_postal_codes_of_Canada:_M\">List Of postal Codes Canada</a></li>\n",
    "        <li>Using <b>FourSquare API</b> we will find all venues for each neighborhood. Also using credentials of Foursquare API features of near-by places of the neighborhoods would be mined. Due to http request limitations the number of places per neighborhood parameter would reasonably be set to 100 and the radius parameter would be set to 800.</li>\n",
    "<li>Filter out all venues that are bakeries.</li>\n",
    "        <li>Find ratings, and the number of bakeries found in each neighbourhood using <b>FourSquare API</b>.</li>\n",
    "<li>We use the rating to Using rating for each resturant, we will sort that data.</li>\n",
    "<li>Visualize the Ranking of neighborhoods using folium library(python). This can determine where will there be competition and which all neighbourhoods will have potential to start a bakery.</li></i>\n",
    "    </ol>"
   ]
  },
  {
   "cell_type": "markdown",
   "metadata": {},
   "source": [
    "<b>LIBRARIES TO BE USED</b>"
   ]
  },
  {
   "cell_type": "markdown",
   "metadata": {},
   "source": [
    "<b>Pandas: </b>For creating and manipulating dataframes.\n",
    "\n",
    "<b>Folium:</b> Python visualization library would be used to visualize the neighborhoods cluster distribution of using interactive leaflet map.\n",
    "\n",
    "<b>JSON:</b> Library to handle JSON files.\n",
    "\n",
    "<b>XML:</b> To separate data from presentation and XML stores data in plain text format.\n",
    "\n",
    "<b>Geocoder:</b> To retrieve Location Data.\n",
    "\n",
    "<b>Beautiful Soup and Requests:</b> To scrap and library to handle http requests.\n",
    "\n",
    "<b>Matplotlib:</b> Python Plotting Module."
   ]
  }
 ],
 "metadata": {
  "kernelspec": {
   "display_name": "Python 3",
   "language": "python",
   "name": "python3"
  },
  "language_info": {
   "codemirror_mode": {
    "name": "ipython",
    "version": 3
   },
   "file_extension": ".py",
   "mimetype": "text/x-python",
   "name": "python",
   "nbconvert_exporter": "python",
   "pygments_lexer": "ipython3",
   "version": "3.7.3"
  }
 },
 "nbformat": 4,
 "nbformat_minor": 2
}
